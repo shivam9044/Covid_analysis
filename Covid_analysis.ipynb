{
 "cells": [
  {
   "cell_type": "code",
   "execution_count": 111,
   "id": "26229a42",
   "metadata": {},
   "outputs": [],
   "source": [
    "import pandas as pd\n",
    "import numpy as np\n",
    "import seaborn as sns\n",
    "import matplotlib.pyplot as plt"
   ]
  },
  {
   "cell_type": "code",
   "execution_count": 112,
   "id": "f5f19683",
   "metadata": {},
   "outputs": [],
   "source": [
    "%matplotlib inline"
   ]
  },
  {
   "cell_type": "code",
   "execution_count": 113,
   "id": "1aee6e9a",
   "metadata": {},
   "outputs": [],
   "source": [
    "df=pd.read_csv('COVID-19 Coronavirus.csv')"
   ]
  },
  {
   "cell_type": "code",
   "execution_count": 114,
   "id": "ed5a0eeb",
   "metadata": {},
   "outputs": [
    {
     "data": {
      "text/html": [
       "<div>\n",
       "<style scoped>\n",
       "    .dataframe tbody tr th:only-of-type {\n",
       "        vertical-align: middle;\n",
       "    }\n",
       "\n",
       "    .dataframe tbody tr th {\n",
       "        vertical-align: top;\n",
       "    }\n",
       "\n",
       "    .dataframe thead th {\n",
       "        text-align: right;\n",
       "    }\n",
       "</style>\n",
       "<table border=\"1\" class=\"dataframe\">\n",
       "  <thead>\n",
       "    <tr style=\"text-align: right;\">\n",
       "      <th></th>\n",
       "      <th>Country</th>\n",
       "      <th>Other names</th>\n",
       "      <th>ISO 3166-1 alpha-3 CODE</th>\n",
       "      <th>Population</th>\n",
       "      <th>Continent</th>\n",
       "      <th>Total Cases</th>\n",
       "      <th>Total Deaths</th>\n",
       "      <th>Tot Cases//1M pop</th>\n",
       "      <th>Tot Deaths/1M pop</th>\n",
       "      <th>Death percentage</th>\n",
       "    </tr>\n",
       "  </thead>\n",
       "  <tbody>\n",
       "    <tr>\n",
       "      <th>0</th>\n",
       "      <td>Afghanistan</td>\n",
       "      <td>Afghanistan</td>\n",
       "      <td>AFG</td>\n",
       "      <td>40462186</td>\n",
       "      <td>Asia</td>\n",
       "      <td>177827</td>\n",
       "      <td>7671</td>\n",
       "      <td>4395</td>\n",
       "      <td>190</td>\n",
       "      <td>4.313743</td>\n",
       "    </tr>\n",
       "    <tr>\n",
       "      <th>1</th>\n",
       "      <td>Albania</td>\n",
       "      <td>Albania</td>\n",
       "      <td>ALB</td>\n",
       "      <td>2872296</td>\n",
       "      <td>Europe</td>\n",
       "      <td>273870</td>\n",
       "      <td>3492</td>\n",
       "      <td>95349</td>\n",
       "      <td>1216</td>\n",
       "      <td>1.275058</td>\n",
       "    </tr>\n",
       "    <tr>\n",
       "      <th>2</th>\n",
       "      <td>Algeria</td>\n",
       "      <td>Algeria</td>\n",
       "      <td>DZA</td>\n",
       "      <td>45236699</td>\n",
       "      <td>Africa</td>\n",
       "      <td>265691</td>\n",
       "      <td>6874</td>\n",
       "      <td>5873</td>\n",
       "      <td>152</td>\n",
       "      <td>2.587216</td>\n",
       "    </tr>\n",
       "    <tr>\n",
       "      <th>3</th>\n",
       "      <td>Andorra</td>\n",
       "      <td>Andorra</td>\n",
       "      <td>AND</td>\n",
       "      <td>77481</td>\n",
       "      <td>Europe</td>\n",
       "      <td>40024</td>\n",
       "      <td>153</td>\n",
       "      <td>516565</td>\n",
       "      <td>1975</td>\n",
       "      <td>0.382271</td>\n",
       "    </tr>\n",
       "    <tr>\n",
       "      <th>4</th>\n",
       "      <td>Angola</td>\n",
       "      <td>Angola</td>\n",
       "      <td>AGO</td>\n",
       "      <td>34654212</td>\n",
       "      <td>Africa</td>\n",
       "      <td>99194</td>\n",
       "      <td>1900</td>\n",
       "      <td>2862</td>\n",
       "      <td>55</td>\n",
       "      <td>1.915438</td>\n",
       "    </tr>\n",
       "  </tbody>\n",
       "</table>\n",
       "</div>"
      ],
      "text/plain": [
       "       Country  Other names ISO 3166-1 alpha-3 CODE  Population Continent  \\\n",
       "0  Afghanistan  Afghanistan                     AFG    40462186      Asia   \n",
       "1      Albania      Albania                     ALB     2872296    Europe   \n",
       "2      Algeria      Algeria                     DZA    45236699    Africa   \n",
       "3      Andorra      Andorra                     AND       77481    Europe   \n",
       "4       Angola       Angola                     AGO    34654212    Africa   \n",
       "\n",
       "   Total Cases  Total Deaths  Tot Cases//1M pop  Tot Deaths/1M pop  \\\n",
       "0       177827          7671               4395                190   \n",
       "1       273870          3492              95349               1216   \n",
       "2       265691          6874               5873                152   \n",
       "3        40024           153             516565               1975   \n",
       "4        99194          1900               2862                 55   \n",
       "\n",
       "   Death percentage  \n",
       "0          4.313743  \n",
       "1          1.275058  \n",
       "2          2.587216  \n",
       "3          0.382271  \n",
       "4          1.915438  "
      ]
     },
     "execution_count": 114,
     "metadata": {},
     "output_type": "execute_result"
    }
   ],
   "source": [
    "df.head()"
   ]
  },
  {
   "cell_type": "code",
   "execution_count": 115,
   "id": "2d34dba2",
   "metadata": {},
   "outputs": [],
   "source": [
    "df.drop(['Other names','ISO 3166-1 alpha-3 CODE'],axis=1,inplace=True)\n",
    "df = df.set_axis(['Country', 'Population', 'Continent', 'Total Cases', 'Total Deaths','Tot cases per mil','Tot death per mil','Death percentage'], axis=1, inplace=False)"
   ]
  },
  {
   "cell_type": "code",
   "execution_count": 116,
   "id": "ebe4b886",
   "metadata": {},
   "outputs": [
    {
     "data": {
      "text/html": [
       "<div>\n",
       "<style scoped>\n",
       "    .dataframe tbody tr th:only-of-type {\n",
       "        vertical-align: middle;\n",
       "    }\n",
       "\n",
       "    .dataframe tbody tr th {\n",
       "        vertical-align: top;\n",
       "    }\n",
       "\n",
       "    .dataframe thead th {\n",
       "        text-align: right;\n",
       "    }\n",
       "</style>\n",
       "<table border=\"1\" class=\"dataframe\">\n",
       "  <thead>\n",
       "    <tr style=\"text-align: right;\">\n",
       "      <th></th>\n",
       "      <th>Country</th>\n",
       "      <th>Population</th>\n",
       "      <th>Continent</th>\n",
       "      <th>Total Cases</th>\n",
       "      <th>Total Deaths</th>\n",
       "      <th>Tot cases per mil</th>\n",
       "      <th>Tot death per mil</th>\n",
       "      <th>Death percentage</th>\n",
       "    </tr>\n",
       "  </thead>\n",
       "  <tbody>\n",
       "    <tr>\n",
       "      <th>0</th>\n",
       "      <td>Afghanistan</td>\n",
       "      <td>40462186</td>\n",
       "      <td>Asia</td>\n",
       "      <td>177827</td>\n",
       "      <td>7671</td>\n",
       "      <td>4395</td>\n",
       "      <td>190</td>\n",
       "      <td>4.313743</td>\n",
       "    </tr>\n",
       "    <tr>\n",
       "      <th>1</th>\n",
       "      <td>Albania</td>\n",
       "      <td>2872296</td>\n",
       "      <td>Europe</td>\n",
       "      <td>273870</td>\n",
       "      <td>3492</td>\n",
       "      <td>95349</td>\n",
       "      <td>1216</td>\n",
       "      <td>1.275058</td>\n",
       "    </tr>\n",
       "    <tr>\n",
       "      <th>2</th>\n",
       "      <td>Algeria</td>\n",
       "      <td>45236699</td>\n",
       "      <td>Africa</td>\n",
       "      <td>265691</td>\n",
       "      <td>6874</td>\n",
       "      <td>5873</td>\n",
       "      <td>152</td>\n",
       "      <td>2.587216</td>\n",
       "    </tr>\n",
       "    <tr>\n",
       "      <th>3</th>\n",
       "      <td>Andorra</td>\n",
       "      <td>77481</td>\n",
       "      <td>Europe</td>\n",
       "      <td>40024</td>\n",
       "      <td>153</td>\n",
       "      <td>516565</td>\n",
       "      <td>1975</td>\n",
       "      <td>0.382271</td>\n",
       "    </tr>\n",
       "    <tr>\n",
       "      <th>4</th>\n",
       "      <td>Angola</td>\n",
       "      <td>34654212</td>\n",
       "      <td>Africa</td>\n",
       "      <td>99194</td>\n",
       "      <td>1900</td>\n",
       "      <td>2862</td>\n",
       "      <td>55</td>\n",
       "      <td>1.915438</td>\n",
       "    </tr>\n",
       "  </tbody>\n",
       "</table>\n",
       "</div>"
      ],
      "text/plain": [
       "       Country  Population Continent  Total Cases  Total Deaths  \\\n",
       "0  Afghanistan    40462186      Asia       177827          7671   \n",
       "1      Albania     2872296    Europe       273870          3492   \n",
       "2      Algeria    45236699    Africa       265691          6874   \n",
       "3      Andorra       77481    Europe        40024           153   \n",
       "4       Angola    34654212    Africa        99194          1900   \n",
       "\n",
       "   Tot cases per mil  Tot death per mil  Death percentage  \n",
       "0               4395                190          4.313743  \n",
       "1              95349               1216          1.275058  \n",
       "2               5873                152          2.587216  \n",
       "3             516565               1975          0.382271  \n",
       "4               2862                 55          1.915438  "
      ]
     },
     "execution_count": 116,
     "metadata": {},
     "output_type": "execute_result"
    }
   ],
   "source": [
    "df.head()"
   ]
  },
  {
   "cell_type": "code",
   "execution_count": 117,
   "id": "ed139d2f",
   "metadata": {},
   "outputs": [
    {
     "data": {
      "text/html": [
       "<div>\n",
       "<style scoped>\n",
       "    .dataframe tbody tr th:only-of-type {\n",
       "        vertical-align: middle;\n",
       "    }\n",
       "\n",
       "    .dataframe tbody tr th {\n",
       "        vertical-align: top;\n",
       "    }\n",
       "\n",
       "    .dataframe thead th {\n",
       "        text-align: right;\n",
       "    }\n",
       "</style>\n",
       "<table border=\"1\" class=\"dataframe\">\n",
       "  <thead>\n",
       "    <tr style=\"text-align: right;\">\n",
       "      <th></th>\n",
       "      <th>count</th>\n",
       "      <th>mean</th>\n",
       "      <th>std</th>\n",
       "      <th>min</th>\n",
       "      <th>25%</th>\n",
       "      <th>50%</th>\n",
       "      <th>75%</th>\n",
       "      <th>max</th>\n",
       "    </tr>\n",
       "  </thead>\n",
       "  <tbody>\n",
       "    <tr>\n",
       "      <th>Population</th>\n",
       "      <td>225.0</td>\n",
       "      <td>3.507321e+07</td>\n",
       "      <td>1.392418e+08</td>\n",
       "      <td>805.0</td>\n",
       "      <td>566557.000000</td>\n",
       "      <td>5.827911e+06</td>\n",
       "      <td>2.190585e+07</td>\n",
       "      <td>1.439324e+09</td>\n",
       "    </tr>\n",
       "    <tr>\n",
       "      <th>Total Cases</th>\n",
       "      <td>225.0</td>\n",
       "      <td>2.184781e+06</td>\n",
       "      <td>7.275938e+06</td>\n",
       "      <td>1.0</td>\n",
       "      <td>24071.000000</td>\n",
       "      <td>1.639360e+05</td>\n",
       "      <td>1.092547e+06</td>\n",
       "      <td>8.183905e+07</td>\n",
       "    </tr>\n",
       "    <tr>\n",
       "      <th>Total Deaths</th>\n",
       "      <td>225.0</td>\n",
       "      <td>2.744813e+04</td>\n",
       "      <td>9.689177e+04</td>\n",
       "      <td>0.0</td>\n",
       "      <td>189.000000</td>\n",
       "      <td>1.965000e+03</td>\n",
       "      <td>1.366000e+04</td>\n",
       "      <td>1.008222e+06</td>\n",
       "    </tr>\n",
       "    <tr>\n",
       "      <th>Tot cases per mil</th>\n",
       "      <td>225.0</td>\n",
       "      <td>1.369004e+05</td>\n",
       "      <td>1.450603e+05</td>\n",
       "      <td>9.0</td>\n",
       "      <td>11384.000000</td>\n",
       "      <td>8.898700e+04</td>\n",
       "      <td>2.233350e+05</td>\n",
       "      <td>6.960440e+05</td>\n",
       "    </tr>\n",
       "    <tr>\n",
       "      <th>Tot death per mil</th>\n",
       "      <td>225.0</td>\n",
       "      <td>1.096716e+03</td>\n",
       "      <td>1.195716e+03</td>\n",
       "      <td>0.0</td>\n",
       "      <td>123.000000</td>\n",
       "      <td>7.080000e+02</td>\n",
       "      <td>1.795000e+03</td>\n",
       "      <td>6.286000e+03</td>\n",
       "    </tr>\n",
       "    <tr>\n",
       "      <th>Death percentage</th>\n",
       "      <td>225.0</td>\n",
       "      <td>1.444125e+00</td>\n",
       "      <td>1.741728e+00</td>\n",
       "      <td>0.0</td>\n",
       "      <td>0.511291</td>\n",
       "      <td>1.036905e+00</td>\n",
       "      <td>1.977017e+00</td>\n",
       "      <td>1.815179e+01</td>\n",
       "    </tr>\n",
       "  </tbody>\n",
       "</table>\n",
       "</div>"
      ],
      "text/plain": [
       "                   count          mean           std    min            25%  \\\n",
       "Population         225.0  3.507321e+07  1.392418e+08  805.0  566557.000000   \n",
       "Total Cases        225.0  2.184781e+06  7.275938e+06    1.0   24071.000000   \n",
       "Total Deaths       225.0  2.744813e+04  9.689177e+04    0.0     189.000000   \n",
       "Tot cases per mil  225.0  1.369004e+05  1.450603e+05    9.0   11384.000000   \n",
       "Tot death per mil  225.0  1.096716e+03  1.195716e+03    0.0     123.000000   \n",
       "Death percentage   225.0  1.444125e+00  1.741728e+00    0.0       0.511291   \n",
       "\n",
       "                            50%           75%           max  \n",
       "Population         5.827911e+06  2.190585e+07  1.439324e+09  \n",
       "Total Cases        1.639360e+05  1.092547e+06  8.183905e+07  \n",
       "Total Deaths       1.965000e+03  1.366000e+04  1.008222e+06  \n",
       "Tot cases per mil  8.898700e+04  2.233350e+05  6.960440e+05  \n",
       "Tot death per mil  7.080000e+02  1.795000e+03  6.286000e+03  \n",
       "Death percentage   1.036905e+00  1.977017e+00  1.815179e+01  "
      ]
     },
     "execution_count": 117,
     "metadata": {},
     "output_type": "execute_result"
    }
   ],
   "source": [
    "df.describe().transpose()"
   ]
  },
  {
   "cell_type": "code",
   "execution_count": 118,
   "id": "8605e34b",
   "metadata": {},
   "outputs": [
    {
     "data": {
      "text/plain": [
       "<AxesSubplot:xlabel='Continent'>"
      ]
     },
     "execution_count": 118,
     "metadata": {},
     "output_type": "execute_result"
    },
    {
     "data": {
      "image/png": "[encoded data removed]",
      "text/plain": [
       "<Figure size 432x288 with 1 Axes>"
      ]
     },
     "metadata": {
      "needs_background": "light"
     },
     "output_type": "display_data"
    }
   ],
   "source": [
    "df.groupby('Continent')['Population'].mean().sort_values(ascending=False).plot.bar()"
   ]
  },
  {
   "cell_type": "code",
   "execution_count": 119,
   "id": "7033eaf0",
   "metadata": {},
   "outputs": [
    {
     "data": {
      "text/plain": [
       "array(['Asia', 'Europe', 'Africa', 'Latin America and the Caribbean',\n",
       "       'Oceania', 'Northern America'], dtype=object)"
      ]
     },
     "execution_count": 119,
     "metadata": {},
     "output_type": "execute_result"
    }
   ],
   "source": [
    "df['Continent'].unique()"
   ]
  },
  {
   "cell_type": "code",
   "execution_count": 120,
   "id": "8512cb37",
   "metadata": {},
   "outputs": [
    {
     "data": {
      "text/plain": [
       "<AxesSubplot:xlabel='Continent'>"
      ]
     },
     "execution_count": 120,
     "metadata": {},
     "output_type": "execute_result"
    },
    {
     "data": {
      "image/png": "[encoded data removed]",
      "text/plain": [
       "<Figure size 432x288 with 1 Axes>"
      ]
     },
     "metadata": {
      "needs_background": "light"
     },
     "output_type": "display_data"
    }
   ],
   "source": [
    "x1=df.groupby('Continent')['Total Cases'].mean().sort_values(ascending=False)\n",
    "x1.plot.bar(color='r')"
   ]
  },
  {
   "cell_type": "code",
   "execution_count": 133,
   "id": "cbc08d7d",
   "metadata": {},
   "outputs": [
    {
     "data": {
      "text/html": [
       "<div>\n",
       "<style scoped>\n",
       "    .dataframe tbody tr th:only-of-type {\n",
       "        vertical-align: middle;\n",
       "    }\n",
       "\n",
       "    .dataframe tbody tr th {\n",
       "        vertical-align: top;\n",
       "    }\n",
       "\n",
       "    .dataframe thead th {\n",
       "        text-align: right;\n",
       "    }\n",
       "</style>\n",
       "<table border=\"1\" class=\"dataframe\">\n",
       "  <thead>\n",
       "    <tr style=\"text-align: right;\">\n",
       "      <th></th>\n",
       "      <th>Country</th>\n",
       "      <th>Population</th>\n",
       "      <th>Continent</th>\n",
       "      <th>Death percentage</th>\n",
       "    </tr>\n",
       "  </thead>\n",
       "  <tbody>\n",
       "    <tr>\n",
       "      <th>222</th>\n",
       "      <td>Yemen</td>\n",
       "      <td>30975258</td>\n",
       "      <td>Asia</td>\n",
       "      <td>18.151787</td>\n",
       "    </tr>\n",
       "    <tr>\n",
       "      <th>221</th>\n",
       "      <td>Western Sahara</td>\n",
       "      <td>623031</td>\n",
       "      <td>Africa</td>\n",
       "      <td>10.000000</td>\n",
       "    </tr>\n",
       "    <tr>\n",
       "      <th>193</th>\n",
       "      <td>Sudan</td>\n",
       "      <td>45640385</td>\n",
       "      <td>Africa</td>\n",
       "      <td>7.920265</td>\n",
       "    </tr>\n",
       "    <tr>\n",
       "      <th>158</th>\n",
       "      <td>Peru</td>\n",
       "      <td>33775745</td>\n",
       "      <td>Latin America and the Caribbean</td>\n",
       "      <td>5.983499</td>\n",
       "    </tr>\n",
       "    <tr>\n",
       "      <th>130</th>\n",
       "      <td>Mexico</td>\n",
       "      <td>131303955</td>\n",
       "      <td>Latin America and the Caribbean</td>\n",
       "      <td>5.705041</td>\n",
       "    </tr>\n",
       "    <tr>\n",
       "      <th>197</th>\n",
       "      <td>Syria</td>\n",
       "      <td>18244381</td>\n",
       "      <td>Asia</td>\n",
       "      <td>5.643410</td>\n",
       "    </tr>\n",
       "    <tr>\n",
       "      <th>186</th>\n",
       "      <td>Somalia</td>\n",
       "      <td>16668781</td>\n",
       "      <td>Africa</td>\n",
       "      <td>5.106061</td>\n",
       "    </tr>\n",
       "    <tr>\n",
       "      <th>59</th>\n",
       "      <td>Egypt</td>\n",
       "      <td>105711844</td>\n",
       "      <td>Africa</td>\n",
       "      <td>4.832523</td>\n",
       "    </tr>\n",
       "    <tr>\n",
       "      <th>0</th>\n",
       "      <td>Afghanistan</td>\n",
       "      <td>40462186</td>\n",
       "      <td>Asia</td>\n",
       "      <td>4.313743</td>\n",
       "    </tr>\n",
       "    <tr>\n",
       "      <th>24</th>\n",
       "      <td>Bosnia and Herzegovina</td>\n",
       "      <td>3245097</td>\n",
       "      <td>Europe</td>\n",
       "      <td>4.184001</td>\n",
       "    </tr>\n",
       "  </tbody>\n",
       "</table>\n",
       "</div>"
      ],
      "text/plain": [
       "                    Country  Population                        Continent  \\\n",
       "222                   Yemen    30975258                             Asia   \n",
       "221          Western Sahara      623031                           Africa   \n",
       "193                   Sudan    45640385                           Africa   \n",
       "158                    Peru    33775745  Latin America and the Caribbean   \n",
       "130                  Mexico   131303955  Latin America and the Caribbean   \n",
       "197                   Syria    18244381                             Asia   \n",
       "186                 Somalia    16668781                           Africa   \n",
       "59                    Egypt   105711844                           Africa   \n",
       "0               Afghanistan    40462186                             Asia   \n",
       "24   Bosnia and Herzegovina     3245097                           Europe   \n",
       "\n",
       "     Death percentage  \n",
       "222         18.151787  \n",
       "221         10.000000  \n",
       "193          7.920265  \n",
       "158          5.983499  \n",
       "130          5.705041  \n",
       "197          5.643410  \n",
       "186          5.106061  \n",
       "59           4.832523  \n",
       "0            4.313743  \n",
       "24           4.184001  "
      ]
     },
     "execution_count": 133,
     "metadata": {},
     "output_type": "execute_result"
    }
   ],
   "source": [
    "df.sort_values(by='Death percentage',ascending=False)[['Country','Population','Continent','Death percentage']].head(10)"
   ]
  },
  {
   "cell_type": "code",
   "execution_count": 132,
   "id": "a355eea9",
   "metadata": {},
   "outputs": [
    {
     "data": {
      "text/html": [
       "<div>\n",
       "<style scoped>\n",
       "    .dataframe tbody tr th:only-of-type {\n",
       "        vertical-align: middle;\n",
       "    }\n",
       "\n",
       "    .dataframe tbody tr th {\n",
       "        vertical-align: top;\n",
       "    }\n",
       "\n",
       "    .dataframe thead th {\n",
       "        text-align: right;\n",
       "    }\n",
       "</style>\n",
       "<table border=\"1\" class=\"dataframe\">\n",
       "  <thead>\n",
       "    <tr style=\"text-align: right;\">\n",
       "      <th></th>\n",
       "      <th>Country</th>\n",
       "      <th>Population</th>\n",
       "      <th>Continent</th>\n",
       "      <th>Tot cases per mil</th>\n",
       "    </tr>\n",
       "  </thead>\n",
       "  <tbody>\n",
       "    <tr>\n",
       "      <th>66</th>\n",
       "      <td>Faeroe Islands</td>\n",
       "      <td>49188</td>\n",
       "      <td>Europe</td>\n",
       "      <td>696044</td>\n",
       "    </tr>\n",
       "    <tr>\n",
       "      <th>91</th>\n",
       "      <td>Iceland</td>\n",
       "      <td>345120</td>\n",
       "      <td>Europe</td>\n",
       "      <td>526860</td>\n",
       "    </tr>\n",
       "    <tr>\n",
       "      <th>3</th>\n",
       "      <td>Andorra</td>\n",
       "      <td>77481</td>\n",
       "      <td>Europe</td>\n",
       "      <td>516565</td>\n",
       "    </tr>\n",
       "    <tr>\n",
       "      <th>78</th>\n",
       "      <td>Gibraltar</td>\n",
       "      <td>33673</td>\n",
       "      <td>Europe</td>\n",
       "      <td>504232</td>\n",
       "    </tr>\n",
       "    <tr>\n",
       "      <th>53</th>\n",
       "      <td>Denmark</td>\n",
       "      <td>5827911</td>\n",
       "      <td>Europe</td>\n",
       "      <td>500939</td>\n",
       "    </tr>\n",
       "    <tr>\n",
       "      <th>184</th>\n",
       "      <td>Slovenia</td>\n",
       "      <td>2079438</td>\n",
       "      <td>Europe</td>\n",
       "      <td>468344</td>\n",
       "    </tr>\n",
       "    <tr>\n",
       "      <th>142</th>\n",
       "      <td>Netherlands</td>\n",
       "      <td>17201245</td>\n",
       "      <td>Europe</td>\n",
       "      <td>459775</td>\n",
       "    </tr>\n",
       "    <tr>\n",
       "      <th>174</th>\n",
       "      <td>San Marino</td>\n",
       "      <td>34056</td>\n",
       "      <td>Europe</td>\n",
       "      <td>445766</td>\n",
       "    </tr>\n",
       "    <tr>\n",
       "      <th>110</th>\n",
       "      <td>Latvia</td>\n",
       "      <td>1849698</td>\n",
       "      <td>Europe</td>\n",
       "      <td>433873</td>\n",
       "    </tr>\n",
       "    <tr>\n",
       "      <th>115</th>\n",
       "      <td>Liechtenstein</td>\n",
       "      <td>38320</td>\n",
       "      <td>Europe</td>\n",
       "      <td>428732</td>\n",
       "    </tr>\n",
       "  </tbody>\n",
       "</table>\n",
       "</div>"
      ],
      "text/plain": [
       "            Country  Population Continent  Tot cases per mil\n",
       "66   Faeroe Islands       49188    Europe             696044\n",
       "91          Iceland      345120    Europe             526860\n",
       "3           Andorra       77481    Europe             516565\n",
       "78        Gibraltar       33673    Europe             504232\n",
       "53          Denmark     5827911    Europe             500939\n",
       "184        Slovenia     2079438    Europe             468344\n",
       "142     Netherlands    17201245    Europe             459775\n",
       "174      San Marino       34056    Europe             445766\n",
       "110          Latvia     1849698    Europe             433873\n",
       "115   Liechtenstein       38320    Europe             428732"
      ]
     },
     "execution_count": 132,
     "metadata": {},
     "output_type": "execute_result"
    }
   ],
   "source": [
    "df.sort_values(by='Tot cases per mil',ascending=False)[['Country','Population','Continent','Tot cases per mil']].head(10)"
   ]
  },
  {
   "cell_type": "code",
   "execution_count": 135,
   "id": "ea8d0220",
   "metadata": {},
   "outputs": [
    {
     "data": {
      "text/html": [
       "<div>\n",
       "<style scoped>\n",
       "    .dataframe tbody tr th:only-of-type {\n",
       "        vertical-align: middle;\n",
       "    }\n",
       "\n",
       "    .dataframe tbody tr th {\n",
       "        vertical-align: top;\n",
       "    }\n",
       "\n",
       "    .dataframe thead th {\n",
       "        text-align: right;\n",
       "    }\n",
       "</style>\n",
       "<table border=\"1\" class=\"dataframe\">\n",
       "  <thead>\n",
       "    <tr style=\"text-align: right;\">\n",
       "      <th></th>\n",
       "      <th>Country</th>\n",
       "      <th>Population</th>\n",
       "      <th>Continent</th>\n",
       "      <th>Tot death per mil</th>\n",
       "    </tr>\n",
       "  </thead>\n",
       "  <tbody>\n",
       "    <tr>\n",
       "      <th>158</th>\n",
       "      <td>Peru</td>\n",
       "      <td>33775745</td>\n",
       "      <td>Latin America and the Caribbean</td>\n",
       "      <td>6286</td>\n",
       "    </tr>\n",
       "    <tr>\n",
       "      <th>29</th>\n",
       "      <td>Bulgaria</td>\n",
       "      <td>6856886</td>\n",
       "      <td>Europe</td>\n",
       "      <td>5333</td>\n",
       "    </tr>\n",
       "    <tr>\n",
       "      <th>24</th>\n",
       "      <td>Bosnia and Herzegovina</td>\n",
       "      <td>3245097</td>\n",
       "      <td>Europe</td>\n",
       "      <td>4844</td>\n",
       "    </tr>\n",
       "    <tr>\n",
       "      <th>90</th>\n",
       "      <td>Hungary</td>\n",
       "      <td>9617409</td>\n",
       "      <td>Europe</td>\n",
       "      <td>4732</td>\n",
       "    </tr>\n",
       "    <tr>\n",
       "      <th>149</th>\n",
       "      <td>North Macedonia</td>\n",
       "      <td>2083224</td>\n",
       "      <td>Europe</td>\n",
       "      <td>4430</td>\n",
       "    </tr>\n",
       "    <tr>\n",
       "      <th>135</th>\n",
       "      <td>Montenegro</td>\n",
       "      <td>628205</td>\n",
       "      <td>Europe</td>\n",
       "      <td>4306</td>\n",
       "    </tr>\n",
       "    <tr>\n",
       "      <th>75</th>\n",
       "      <td>Georgia</td>\n",
       "      <td>3975762</td>\n",
       "      <td>Asia</td>\n",
       "      <td>4215</td>\n",
       "    </tr>\n",
       "    <tr>\n",
       "      <th>48</th>\n",
       "      <td>Croatia</td>\n",
       "      <td>4060951</td>\n",
       "      <td>Europe</td>\n",
       "      <td>3842</td>\n",
       "    </tr>\n",
       "    <tr>\n",
       "      <th>52</th>\n",
       "      <td>Czechia</td>\n",
       "      <td>10743762</td>\n",
       "      <td>Europe</td>\n",
       "      <td>3697</td>\n",
       "    </tr>\n",
       "    <tr>\n",
       "      <th>183</th>\n",
       "      <td>Slovakia</td>\n",
       "      <td>5464272</td>\n",
       "      <td>Europe</td>\n",
       "      <td>3553</td>\n",
       "    </tr>\n",
       "  </tbody>\n",
       "</table>\n",
       "</div>"
      ],
      "text/plain": [
       "                    Country  Population                        Continent  \\\n",
       "158                    Peru    33775745  Latin America and the Caribbean   \n",
       "29                 Bulgaria     6856886                           Europe   \n",
       "24   Bosnia and Herzegovina     3245097                           Europe   \n",
       "90                  Hungary     9617409                           Europe   \n",
       "149         North Macedonia     2083224                           Europe   \n",
       "135              Montenegro      628205                           Europe   \n",
       "75                  Georgia     3975762                             Asia   \n",
       "48                  Croatia     4060951                           Europe   \n",
       "52                  Czechia    10743762                           Europe   \n",
       "183                Slovakia     5464272                           Europe   \n",
       "\n",
       "     Tot death per mil  \n",
       "158               6286  \n",
       "29                5333  \n",
       "24                4844  \n",
       "90                4732  \n",
       "149               4430  \n",
       "135               4306  \n",
       "75                4215  \n",
       "48                3842  \n",
       "52                3697  \n",
       "183               3553  "
      ]
     },
     "execution_count": 135,
     "metadata": {},
     "output_type": "execute_result"
    }
   ],
   "source": [
    "df.sort_values(by='Tot death per mil',ascending=False)[['Country','Population','Continent','Tot death per mil']].head(10)"
   ]
  },
  {
   "cell_type": "code",
   "execution_count": 139,
   "id": "4e9ed64e",
   "metadata": {},
   "outputs": [
    {
     "data": {
      "text/plain": [
       "<seaborn.axisgrid.FacetGrid at 0x297485acbe0>"
      ]
     },
     "execution_count": 139,
     "metadata": {},
     "output_type": "execute_result"
    },
    {
     "data": {
      "image/png": "[encoded data removed]",
      "text/plain": [
       "<Figure size 560.875x360 with 1 Axes>"
      ]
     },
     "metadata": {
      "needs_background": "light"
     },
     "output_type": "display_data"
    }
   ],
   "source": [
    "sns.lmplot(x='Tot cases per mil',y='Tot death per mil',data=df,hue='Continent')"
   ]
  },
  {
   "cell_type": "code",
   "execution_count": 163,
   "id": "a09304de",
   "metadata": {},
   "outputs": [
    {
     "data": {
      "text/plain": [
       "<AxesSubplot:xlabel='Continent', ylabel='Tot cases per mil'>"
      ]
     },
     "execution_count": 163,
     "metadata": {},
     "output_type": "execute_result"
    },
    {
     "data": {
      "image/png": "[encoded data removed]",
      "text/plain": [
       "<Figure size 1080x360 with 1 Axes>"
      ]
     },
     "metadata": {
      "needs_background": "light"
     },
     "output_type": "display_data"
    }
   ],
   "source": [
    "plt.figure(figsize=(15,5))\n",
    "sns.stripplot(x=\"Continent\", y=\"Tot cases per mil\", data=df,size=7,alpha=0.6)\n"
   ]
  },
  {
   "cell_type": "code",
   "execution_count": 165,
   "id": "a84dba1a",
   "metadata": {},
   "outputs": [
    {
     "data": {
      "text/plain": [
       "<AxesSubplot:xlabel='Continent', ylabel='Tot death per mil'>"
      ]
     },
     "execution_count": 165,
     "metadata": {},
     "output_type": "execute_result"
    },
    {
     "data": {
      "image/png": "[encoded data removed]",
      "text/plain": [
       "<Figure size 1080x360 with 1 Axes>"
      ]
     },
     "metadata": {
      "needs_background": "light"
     },
     "output_type": "display_data"
    }
   ],
   "source": [
    "plt.figure(figsize=(15,5))\n",
    "sns.stripplot(x=\"Continent\", y=\"Tot death per mil\", data=df,size=7,alpha=0.6)"
   ]
  },
  {
   "cell_type": "code",
   "execution_count": null,
   "id": "410cd307",
   "metadata": {},
   "outputs": [],
   "source": []
  },
  {
   "cell_type": "code",
   "execution_count": null,
   "id": "e171eab4",
   "metadata": {},
   "outputs": [],
   "source": []
  }
 ],
 "metadata": {
  "kernelspec": {
   "display_name": "Python 3",
   "language": "python",
   "name": "python3"
  },
  "language_info": {
   "codemirror_mode": {
    "name": "ipython",
    "version": 3
   },
   "file_extension": ".py",
   "mimetype": "text/x-python",
   "name": "python",
   "nbconvert_exporter": "python",
   "pygments_lexer": "ipython3",
   "version": "3.8.8"
  }
 },
 "nbformat": 4,
 "nbformat_minor": 5
}
